{
 "cells": [
  {
   "cell_type": "code",
   "execution_count": 6,
   "metadata": {},
   "outputs": [
    {
     "name": "stderr",
     "output_type": "stream",
     "text": [
      "Some weights of VisionEncoderDecoderModel were not initialized from the model checkpoint at microsoft/trocr-base-handwritten and are newly initialized: ['encoder.pooler.dense.bias', 'encoder.pooler.dense.weight']\n",
      "You should probably TRAIN this model on a down-stream task to be able to use it for predictions and inference.\n"
     ]
    },
    {
     "name": "stdout",
     "output_type": "stream",
     "text": [
      "generated_text:  bonjour\n",
      "detected_lang fr\n",
      "tensor([[     2, 250014, 107687,      5,      2]])\n",
      "['안녕하세요.']\n"
     ]
    }
   ],
   "source": [
    "from transformers import TrOCRProcessor, VisionEncoderDecoderModel\n",
    "from PIL import Image\n",
    "import requests\n",
    "from io import BytesIO\n",
    "\n",
    "# url = 'https://www.shutterstock.com/image-vector/hello-world-handwritten-cursive-typography-260nw-1869117610.jpg'\n",
    "# url = 'https://encrypted-tbn0.gstatic.com/images?q=tbn:ANd9GcSMw98cNId3ybxaqKMg5NWTCSwAa-l8QHvrnhnNJzgtvjo1sfq3Av91zcq8xOYZSiWXqg&usqp=CAU'\n",
    "# url = 'https://t3.ftcdn.net/jpg/03/61/93/62/360_F_361936252_rDwYjxmAPFe6mvPhwwvVGdSKgAbu30Xk.jpg'\n",
    "# url = \"https://images.squarespace-cdn.com/content/v1/599c5605b8a79bbe6db64021/1601043762216-KIGV2ZV6ONOLX7BT3POH/Screen+Shot+2020-09-25+at+10.16.38+AM.png\"\n",
    "url = \"https://encrypted-tbn0.gstatic.com/images?q=tbn:ANd9GcRM-w7ZrDdpVNic2LoKHpZjugDvyl0ckVFBWQ&s\" # bonjour\n",
    "response = requests.get(url)\n",
    "img = Image.open(BytesIO(response.content))\n",
    "\n",
    "# img.show()\n",
    "\n",
    "image = Image.open(requests.get(url, stream=True).raw).convert(\"RGB\")\n",
    "\n",
    "processor = TrOCRProcessor.from_pretrained('microsoft/trocr-base-handwritten')\n",
    "model = VisionEncoderDecoderModel.from_pretrained('microsoft/trocr-base-handwritten')\n",
    "pixel_values = processor(images=image, return_tensors=\"pt\").pixel_values\n",
    "\n",
    "generated_ids = model.generate(pixel_values)\n",
    "generated_ids = model.generate(pixel_values, max_new_tokens=50)\n",
    "generated_text = processor.batch_decode(generated_ids, skip_special_tokens=True)[0]\n",
    "\n",
    "print(\"generated_text: \", generated_text)\n",
    "\n",
    "# generated text를 언어인식해서 번역\n",
    "from transformers import pipeline\n",
    "\n",
    "# Load a language detection pipeline\n",
    "lang_detector = pipeline(\"text-classification\", model=\"papluca/xlm-roberta-base-language-detection\")\n",
    "\n",
    "# Detect the language\n",
    "result = lang_detector(generated_text)\n",
    "detected_lang = result[0]['label']\n",
    "print('detected_lang: ', detected_lang)\n",
    "\n",
    "from transformers import MBartForConditionalGeneration, MBart50TokenizerFast\n",
    "import torch\n",
    "from diffusers import FluxPipeline\n",
    "\n",
    "# 번역 모델 불러오기\n",
    "model = MBartForConditionalGeneration.from_pretrained(\"facebook/mbart-large-50-many-to-many-mmt\")\n",
    "# 번역 모델에서 사용할 토크나이저 가져오기\n",
    "tokenizer = MBart50TokenizerFast.from_pretrained(\"facebook/mbart-large-50-many-to-many-mmt\")\n",
    "\n",
    "# 전처리\n",
    "# Translate other language to Korean\n",
    "tokenizer.src_lang = detected_lang + \"_\" + detected_lang.upper()\n",
    "if (detected_lang == 'en' or detected_lang == 'es' or detected_lang == 'fr' or detected_lang == 'ja' or detected_lang == 'pt'):\n",
    "    tokenizer.src_lang = detected_lang + \"_XX\"\n",
    "\n",
    "# 토크나이징\n",
    "encoded_lang = tokenizer(generated_text, return_tensors=\"pt\")\n",
    "\n",
    "# 추론\n",
    "generated_tokens = model.generate(\n",
    "    **encoded_lang,\n",
    "    forced_bos_token_id=tokenizer.lang_code_to_id[\"ko_KR\"]\n",
    ")\n",
    "\n",
    "# 후처리\n",
    "# 번역 결과 decoding(자연어로 변경)\n",
    "translated_text = tokenizer.batch_decode(generated_tokens, skip_special_tokens=True)\n",
    "\n",
    "print('translated_text', translated_text)"
   ]
  }
 ],
 "metadata": {
  "kernelspec": {
   "display_name": "lecture_env",
   "language": "python",
   "name": "python3"
  },
  "language_info": {
   "codemirror_mode": {
    "name": "ipython",
    "version": 3
   },
   "file_extension": ".py",
   "mimetype": "text/x-python",
   "name": "python",
   "nbconvert_exporter": "python",
   "pygments_lexer": "ipython3",
   "version": "3.12.7"
  }
 },
 "nbformat": 4,
 "nbformat_minor": 2
}
